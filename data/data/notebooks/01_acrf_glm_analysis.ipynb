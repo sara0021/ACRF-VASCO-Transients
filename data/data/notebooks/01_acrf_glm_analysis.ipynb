{
 "cells": [
  {
   "cell_type": "markdown",
   "source": [
    "# ACRF: GLM Analysis for VASCO Transients\n\n**@sara0021 | Oct 29, 2025**\n\nFits Binomial GLM, plots 2-3x spikes."
   ]
  },
  {
   "cell_type": "code",
   "source": [
    "import pandas as pd\nimport statsmodels.api as sm\nimport matplotlib.pyplot as plt\nimport numpy as np\n\n# Load\ndf = pd.read_csv('../data/transients.csv')\ndf['date'] = pd.to_datetime(df['date'])\nprint(f\"Loaded {len(df)} days. Baseline: {df['transient_count'].mean():.1f}\")\ndf.head()"
   ]
  },
  {
   "cell_type": "code",
   "source": [
    "# X/y\nX = df[['nuclear_event', 'uap_event', 'geomag_kp']]\nX = sm.add_constant(X)\ny = df['transient_count']\nprint(\"Ready.\")"
   ]
  },
  {
   "cell_type": "code",
   "source": [
    "# GLM\nglm = sm.GLM(y, X, family=sm.families.Binomial())\nresult = glm.fit()\nprint(result.summary())\n\ncoeffs = result.params\npvals = result.pvalues\nprint(f\"\\nNuclear: exp({coeffs['nuclear_event']:.3f}) ≈ {np.exp(coeffs['nuclear_event']):.1f}x (p={pvals['nuclear_event']:.3e})\")\nprint(f\"UAP: exp({coeffs['uap_event']:.3f}) ≈ {np.exp(coeffs['uap_event']):.1f}x (p={pvals['uap_event']:.3e})\")"
   ]
  },
  {
   "cell_type": "code",
   "source": [
    "# Plots\nplt.figure(figsize=(12,5))\nplt.bar(df['date'], df['transient_count'], color='lightblue', label='Daily')\nevent_mask = (df['nuclear_event']==1) | (df['uap_event']==1)\nplt.bar(df[event_mask]['date'], df[event_mask]['transient_count'], color='red', label='Event (2-3x)')\nplt.axhline(df['transient_count'].mean(), color='green', linestyle='--', label='Baseline')\nplt.title('VASCO: 2-3x Spikes')\nplt.xlabel('Date'); plt.ylabel('Count'); plt.legend(); plt.xticks(rotation=45)\nplt.tight_layout()\nplt.savefig('../results/spikes.png', dpi=150)\nplt.show()\n\ndf['event_day'] = event_mask.astype(int)\ndf.boxplot(column='transient_count', by='event_day', figsize=(6,4))\nplt.title('Event vs Non (2-3x)')\nplt.suptitle(''); plt.ylabel('Count')\nplt.show()\nprint(f\"Event: {df[df['event_day']==1]['transient_count'].mean():.1f} ({df[df['event_day']==1]['transient_count'].mean()/df[df['event_day']==0]['transient_count'].mean():.1f}x)\")"
   ]
  }
 ],
 "metadata": {"kernelspec": {"name": "python3", "display_name": "Python 3"}},
 "nbformat": 4,
 "nbformat_minor": 2
}
